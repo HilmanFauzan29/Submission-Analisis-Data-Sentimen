{
  "nbformat": 4,
  "nbformat_minor": 0,
  "metadata": {
    "colab": {
      "provenance": []
    },
    "kernelspec": {
      "name": "python3",
      "display_name": "Python 3"
    },
    "language_info": {
      "name": "python"
    }
  },
  "cells": [
    {
      "cell_type": "code",
      "execution_count": 4,
      "metadata": {
        "colab": {
          "base_uri": "https://localhost:8080/"
        },
        "id": "BPy3XoUP7KLw",
        "outputId": "53f33b94-5873-4faa-b385-4932f22c7814"
      },
      "outputs": [
        {
          "output_type": "stream",
          "name": "stdout",
          "text": [
            "Requirement already satisfied: google_play_scraper in /usr/local/lib/python3.11/dist-packages (1.2.7)\n"
          ]
        }
      ],
      "source": [
        "!pip install google_play_scraper\n",
        "import pandas as pd\n",
        "from google_play_scraper import app, reviews\n",
        "\n",
        "# Fungsi untuk mengambil data ulasan aplikasi dari PlayStore\n",
        "def get_reviews(app_id, n_reviews=10000):\n",
        "    # Mendapatkan ulasan aplikasi\n",
        "    result, continuation_token = reviews(\n",
        "        app_id,\n",
        "        lang='id',  # Bahasa Indonesia\n",
        "        country='ID',  # Negara Indonesia\n",
        "        count=n_reviews\n",
        "    )\n",
        "\n",
        "    # Mengonversi data menjadi DataFrame\n",
        "    reviews_df = pd.DataFrame(result)\n",
        "\n",
        "    return reviews_df\n",
        "\n",
        "# ID aplikasi PlayStore yang ingin di-scrape\n",
        "app_id = 'com.spotify.music'  # WhatsApp sebagai contoh\n",
        "\n",
        "# Ambil 500 ulasan pertama\n",
        "reviews_data = get_reviews(app_id, n_reviews=10000)\n",
        "\n",
        "# Simpan data ke file CSV\n",
        "reviews_data.to_csv('ulasan_spotify_playstore.csv', index=False)"
      ]
    },
    {
      "cell_type": "code",
      "source": [],
      "metadata": {
        "id": "p0s2eEYTFkhA"
      },
      "execution_count": null,
      "outputs": []
    }
  ]
}